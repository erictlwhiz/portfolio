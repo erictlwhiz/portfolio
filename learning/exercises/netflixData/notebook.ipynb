{
 "cells": [
  {
   "cell_type": "markdown",
   "id": "937acf3c-c077-4ca6-8d90-8f6dd4d13c54",
   "metadata": {},
   "source": [
    "<center><img src=\"redpopcorn.jpg\"></center>"
   ]
  },
  {
   "cell_type": "markdown",
   "id": "5962b2cd-17bb-4ec9-b2d5-68537ca26860",
   "metadata": {},
   "source": [
    "**Netflix**! What started in 1997 as a DVD rental service has since exploded into one of the largest entertainment and media companies.\n",
    "\n",
    "Given the large number of movies and series available on the platform, it is a perfect opportunity to flex your exploratory data analysis skills and dive into the entertainment industry.\n",
    "\n",
    "You work for a production company that specializes in nostalgic styles. You want to do some research on movies released in the 1990's. You'll delve into Netflix data and perform exploratory data analysis to better understand this awesome movie decade!\n",
    "\n",
    "You have been supplied with the dataset `netflix_data.csv`, along with the following table detailing the column names and descriptions. Feel free to experiment further after submitting!\n",
    "\n",
    "## The data\n",
    "### **netflix_data.csv**\n",
    "| Column | Description |\n",
    "|--------|-------------|\n",
    "| `show_id` | The ID of the show |\n",
    "| `type` | Type of show |\n",
    "| `title` | Title of the show |\n",
    "| `director` | Director of the show |\n",
    "| `cast` | Cast of the show |\n",
    "| `country` | Country of origin |\n",
    "| `date_added` | Date added to Netflix |\n",
    "| `release_year` | Year of Netflix release |\n",
    "| `duration` | Duration of the show in minutes |\n",
    "| `description` | Description of the show |\n",
    "| `genre` | Show genre |"
   ]
  },
  {
   "cell_type": "markdown",
   "id": "102cecb1",
   "metadata": {},
   "source": [
    "Perform exploratory data analysis on the netflix_data.csv data to understand more about movies from the 1990s decade.\n",
    "\n",
    "- What was the most frequent movie duration in the 1990s? Save an approximate answer as an integer called duration (use 1990 as the decade's start year).\n",
    "\n",
    "- A movie is considered short if it is less than 90 minutes. Count the number of short action movies released in the 1990s and save this integer as short_movie_count.\n",
    "\n",
    "Feel free to experiment after submitting the project!"
   ]
  },
  {
   "cell_type": "code",
   "execution_count": 5,
   "id": "320a3abc-8a36-4b2b-baaf-473325363a4d",
   "metadata": {
    "executionCancelledAt": null,
    "executionTime": 36,
    "lastExecutedAt": 1716304519424,
    "lastExecutedByKernel": "0d939945-001f-4d0d-a547-a84889cb9c27",
    "lastScheduledRunId": null,
    "lastSuccessfullyExecutedCode": "# Importing pandas and matplotlib\nimport pandas as pd\nimport matplotlib.pyplot as plt\n\n# Read in the Netflix CSV as a DataFrame\nnetflix_df = pd.read_csv(\"netflix_data.csv\")"
   },
   "outputs": [],
   "source": [
    "# Importing pandas and matplotlib\n",
    "import pandas as pd\n",
    "import matplotlib.pyplot as plt\n",
    "import numpy as np\n",
    "\n",
    "# Read in the Netflix CSV as a DataFrame\n",
    "netflix_df = pd.read_csv(\"netflix_data.csv\")"
   ]
  },
  {
   "cell_type": "code",
   "execution_count": 17,
   "id": "72658473-114f-49eb-bd4e-cc03c710834a",
   "metadata": {
    "executionCancelledAt": null,
    "executionTime": 9,
    "lastExecutedAt": 1716304521330,
    "lastExecutedByKernel": "0d939945-001f-4d0d-a547-a84889cb9c27",
    "lastScheduledRunId": null,
    "lastSuccessfullyExecutedCode": "# Start coding here! Use as many cells as you like"
   },
   "outputs": [
    {
     "name": "stdout",
     "output_type": "stream",
     "text": [
      "  show_id     type  title           director  \\\n",
      "0      s2    Movie   7:19  Jorge Michel Grau   \n",
      "1      s3    Movie  23:59       Gilbert Chan   \n",
      "2      s4    Movie      9        Shane Acker   \n",
      "3      s5    Movie     21     Robert Luketic   \n",
      "4      s6  TV Show     46        Serdar Akar   \n",
      "\n",
      "                                                cast        country  \\\n",
      "0  Demián Bichir, Héctor Bonilla, Oscar Serrano, ...         Mexico   \n",
      "1  Tedd Chan, Stella Chung, Henley Hii, Lawrence ...      Singapore   \n",
      "2  Elijah Wood, John C. Reilly, Jennifer Connelly...  United States   \n",
      "3  Jim Sturgess, Kevin Spacey, Kate Bosworth, Aar...  United States   \n",
      "4  Erdal Beşikçioğlu, Yasemin Allen, Melis Birkan...         Turkey   \n",
      "\n",
      "          date_added  release_year  duration  \\\n",
      "0  December 23, 2016          2016        93   \n",
      "1  December 20, 2018          2011        78   \n",
      "2  November 16, 2017          2009        80   \n",
      "3    January 1, 2020          2008       123   \n",
      "4       July 1, 2017          2016         1   \n",
      "\n",
      "                                         description             genre  \n",
      "0  After a devastating earthquake hits Mexico Cit...            Dramas  \n",
      "1  When an army recruit is found dead, his fellow...     Horror Movies  \n",
      "2  In a postapocalyptic world, rag-doll robots hi...            Action  \n",
      "3  A brilliant group of students become card-coun...            Dramas  \n",
      "4  A genetics professor experiments with a treatm...  International TV  \n"
     ]
    }
   ],
   "source": [
    "# Start coding here! Use as many cells as you like\n",
    "print(netflix_df.head())"
   ]
  },
  {
   "cell_type": "code",
   "execution_count": 10,
   "id": "877786ee",
   "metadata": {},
   "outputs": [],
   "source": [
    "netflix_90s_df = netflix_df[np.logical_and(netflix_df['release_year'] >= 1990, netflix_df['release_year'] < 2000)]"
   ]
  },
  {
   "cell_type": "code",
   "execution_count": 19,
   "id": "62b02da3",
   "metadata": {},
   "outputs": [
    {
     "name": "stdout",
     "output_type": "stream",
     "text": [
      "0    94\n",
      "Name: duration, dtype: int64\n"
     ]
    }
   ],
   "source": [
    "duration = netflix_90s_df[netflix_90s_df['type'] == 'Movie']['duration'].mode()\n",
    "print(duration)"
   ]
  },
  {
   "cell_type": "code",
   "execution_count": 11,
   "id": "5ac18b98",
   "metadata": {},
   "outputs": [
    {
     "data": {
      "image/png": "[encoded data removed]",
      "text/plain": [
       "<Figure size 640x480 with 1 Axes>"
      ]
     },
     "metadata": {},
     "output_type": "display_data"
    }
   ],
   "source": [
    "plt.hist(netflix_90s_df['duration'], bins=20)\n",
    "plt.show()"
   ]
  },
  {
   "cell_type": "code",
   "execution_count": 26,
   "id": "4dda4792",
   "metadata": {},
   "outputs": [
    {
     "name": "stdout",
     "output_type": "stream",
     "text": [
      "7\n"
     ]
    }
   ],
   "source": [
    "short_movie_count = len(netflix_90s_df[(netflix_90s_df['duration'] < 90) & (netflix_90s_df['type'] == 'Movie') & (netflix_90s_df['genre'] == 'Action')])\n",
    "print(short_movie_count)"
   ]
  },
  {
   "cell_type": "code",
   "execution_count": null,
   "id": "f663c712",
   "metadata": {},
   "outputs": [],
   "source": []
  }
 ],
 "metadata": {
  "colab": {
   "name": "Welcome to DataCamp Workspaces.ipynb",
   "provenance": []
  },
  "editor": "DataLab",
  "kernelspec": {
   "display_name": "Python 3",
   "language": "python",
   "name": "python3"
  },
  "language_info": {
   "codemirror_mode": {
    "name": "ipython",
    "version": 3
   },
   "file_extension": ".py",
   "mimetype": "text/x-python",
   "name": "python",
   "nbconvert_exporter": "python",
   "pygments_lexer": "ipython3",
   "version": "3.9.6"
  }
 },
 "nbformat": 4,
 "nbformat_minor": 5
}
